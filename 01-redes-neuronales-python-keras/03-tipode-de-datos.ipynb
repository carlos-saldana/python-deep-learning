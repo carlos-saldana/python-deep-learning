{
 "cells": [
  {
   "cell_type": "markdown",
   "id": "127a8d5d-e259-4e0f-b31d-87faaf811763",
   "metadata": {},
   "source": [
    "### DIMENSIONES, TENSORES Y RESHAPE"
   ]
  },
  {
   "cell_type": "markdown",
   "id": "5a225296-1204-4c77-b64e-b665e4764f95",
   "metadata": {},
   "source": [
    "<div>\n",
    "    <p style = 'text-align:center;'>\n",
    "        <img src=\"imgs/dimensions.png\" width=\"700px\">\n",
    "    </p>\n",
    "</div>"
   ]
  },
  {
   "cell_type": "code",
   "execution_count": 1,
   "id": "476d9049-d299-4561-8ccf-f5d0e5254c8c",
   "metadata": {
    "tags": []
   },
   "outputs": [],
   "source": [
    "#Importamos las librerías a emplear\n",
    "import numpy as np"
   ]
  },
  {
   "cell_type": "markdown",
   "id": "9d120a5a-3118-4ae9-94a9-9950c27d3da9",
   "metadata": {},
   "source": [
    "#### ESCALARES"
   ]
  },
  {
   "cell_type": "code",
   "execution_count": 8,
   "id": "8c69d23d-699d-433b-ba56-043967263075",
   "metadata": {
    "tags": []
   },
   "outputs": [
    {
     "name": "stdout",
     "output_type": "stream",
     "text": [
      "Forma: ()\n",
      "# de dimensiones: 0\n"
     ]
    }
   ],
   "source": [
    "x = np.array(42)\n",
    "\n",
    "print(\"Forma:\", x.shape)            #Forma\n",
    "print(\"# de dimensiones:\", x.ndim)  #Número de dimensiones"
   ]
  },
  {
   "cell_type": "markdown",
   "id": "755f30de-e6dd-489e-bd3a-ada26a7feb43",
   "metadata": {},
   "source": [
    "#### VECTORES"
   ]
  },
  {
   "cell_type": "code",
   "execution_count": 9,
   "id": "31be2922-e6d9-4c11-b3ed-76dc1824a9f5",
   "metadata": {
    "tags": []
   },
   "outputs": [
    {
     "name": "stdout",
     "output_type": "stream",
     "text": [
      "Forma: (6,)\n",
      "# de dimensiones: 1\n"
     ]
    }
   ],
   "source": [
    "x = np.array([1, 2, 3, 4, 5, 6])\n",
    "\n",
    "print(\"Forma:\", x.shape)            #Forma (6 posiciones)\n",
    "print(\"# de dimensiones:\", x.ndim)  #Número de dimensiones"
   ]
  },
  {
   "cell_type": "markdown",
   "id": "7f17a4a1-1c20-4360-b9af-305be3d412c8",
   "metadata": {},
   "source": [
    "#### MATRICES"
   ]
  },
  {
   "cell_type": "code",
   "execution_count": 13,
   "id": "f4cfce5e-f05b-4b42-88af-1dcef707a0bb",
   "metadata": {
    "tags": []
   },
   "outputs": [
    {
     "name": "stdout",
     "output_type": "stream",
     "text": [
      "Forma: (2, 6)\n",
      "# de dimensiones: 2\n"
     ]
    }
   ],
   "source": [
    "x = np.array([[1, 2, 3, 4, 5, 6],\n",
    "            [11, 12, 13, 14, 15, 16]])\n",
    "\n",
    "print(\"Forma:\", x.shape)            #Forma\n",
    "print(\"# de dimensiones:\", x.ndim)  #Número de dimensiones"
   ]
  },
  {
   "cell_type": "markdown",
   "id": "54428c4f-dd05-49cd-814f-2325f2970416",
   "metadata": {},
   "source": [
    "#### TENSORES"
   ]
  },
  {
   "cell_type": "code",
   "execution_count": 16,
   "id": "9a1c459c-55e9-4f9a-8d6d-d8542d0a0662",
   "metadata": {
    "tags": []
   },
   "outputs": [
    {
     "name": "stdout",
     "output_type": "stream",
     "text": [
      "Forma: (2, 2, 6)\n",
      "# de dimensiones: 3\n"
     ]
    }
   ],
   "source": [
    "x = np.array([\n",
    "    [[1, 2, 3, 4, 5, 6], [11, 12, 13, 14, 15, 16]],\n",
    "    [[21, 22, 23, 24, 25, 26], [31, 32, 33, 34, 35, 36]]\n",
    "])\n",
    "\n",
    "print(\"Forma:\", x.shape)            #Forma\n",
    "print(\"# de dimensiones:\", x.ndim)  #Número de dimensiones"
   ]
  },
  {
   "cell_type": "code",
   "execution_count": 23,
   "id": "643f6f2a-4b95-415d-bedd-ebb74bb8f01c",
   "metadata": {
    "tags": []
   },
   "outputs": [
    {
     "name": "stdout",
     "output_type": "stream",
     "text": [
      "Forma: (3, 2, 6)\n",
      "# de dimensiones: 3\n"
     ]
    }
   ],
   "source": [
    "x = np.array([\n",
    "    [[1, 2, 3, 4, 5, 6], [7, 8, 9, 10, 11, 12]],\n",
    "    [[21, 22, 23, 24, 25, 26], [27, 28, 29, 30, 31, 32]],\n",
    "    [[41, 42, 43, 44, 45, 46], [47, 48, 49, 50, 51, 52]]\n",
    "])\n",
    "\n",
    "print(\"Forma:\", x.shape)            #Forma: 3matrices de 2x6\n",
    "print(\"# de dimensiones:\", x.ndim)  #Número de dimensiones"
   ]
  },
  {
   "cell_type": "markdown",
   "id": "ebac5d0d-0afb-4f6c-a466-9bef61d2bd5f",
   "metadata": {},
   "source": [
    "#### RESHAPE"
   ]
  },
  {
   "cell_type": "code",
   "execution_count": 26,
   "id": "5f7f111c-1238-4bf5-9416-74957728c266",
   "metadata": {
    "tags": []
   },
   "outputs": [
    {
     "data": {
      "text/plain": [
       "(4, 2)"
      ]
     },
     "execution_count": 26,
     "metadata": {},
     "output_type": "execute_result"
    }
   ],
   "source": [
    "#Creamos una matriz\n",
    "x = np.array([[0, 1],\n",
    "        [2, 3],\n",
    "        [4, 5],\n",
    "        [6, 7]\n",
    "        ])\n",
    "\n",
    "#Tenemos de una matriz de:\n",
    "x.shape #Forma"
   ]
  },
  {
   "cell_type": "code",
   "execution_count": 28,
   "id": "c2e16f0f-754b-4d2f-94db-e28448bf12bd",
   "metadata": {
    "tags": []
   },
   "outputs": [
    {
     "data": {
      "text/plain": [
       "array([[0],\n",
       "       [1],\n",
       "       [2],\n",
       "       [3],\n",
       "       [4],\n",
       "       [5],\n",
       "       [6],\n",
       "       [7]])"
      ]
     },
     "execution_count": 28,
     "metadata": {},
     "output_type": "execute_result"
    }
   ],
   "source": [
    "#Cambiamos la forma de nuestra matriz\n",
    "x.reshape(8, 1)"
   ]
  },
  {
   "cell_type": "code",
   "execution_count": 31,
   "id": "3773dc85-a832-4d01-9343-395305f40e18",
   "metadata": {
    "tags": []
   },
   "outputs": [
    {
     "data": {
      "text/plain": [
       "array([[0, 1, 2, 3],\n",
       "       [4, 5, 6, 7]])"
      ]
     },
     "execution_count": 31,
     "metadata": {},
     "output_type": "execute_result"
    }
   ],
   "source": [
    "#Cambiamos la forma de nuestra matriz\n",
    "x.reshape(2, 4)"
   ]
  },
  {
   "cell_type": "code",
   "execution_count": 36,
   "id": "8603ee52-426d-4da3-b977-e97e30152919",
   "metadata": {
    "tags": []
   },
   "outputs": [
    {
     "data": {
      "text/plain": [
       "array([[0, 2, 4, 6],\n",
       "       [1, 3, 5, 7]])"
      ]
     },
     "execution_count": 36,
     "metadata": {},
     "output_type": "execute_result"
    }
   ],
   "source": [
    "#Transpuesta\n",
    "np.transpose(x)"
   ]
  },
  {
   "cell_type": "code",
   "execution_count": 37,
   "id": "fe6b3092-b263-4f5e-b815-c5d03d0020d3",
   "metadata": {
    "tags": []
   },
   "outputs": [
    {
     "data": {
      "text/plain": [
       "array([[0, 2, 4, 6],\n",
       "       [1, 3, 5, 7]])"
      ]
     },
     "execution_count": 37,
     "metadata": {},
     "output_type": "execute_result"
    }
   ],
   "source": [
    "#Transpuesta\n",
    "x.T"
   ]
  }
 ],
 "metadata": {
  "kernelspec": {
   "display_name": "Python 3 (ipykernel)",
   "language": "python",
   "name": "python3"
  },
  "language_info": {
   "codemirror_mode": {
    "name": "ipython",
    "version": 3
   },
   "file_extension": ".py",
   "mimetype": "text/x-python",
   "name": "python",
   "nbconvert_exporter": "python",
   "pygments_lexer": "ipython3",
   "version": "3.9.17"
  }
 },
 "nbformat": 4,
 "nbformat_minor": 5
}
