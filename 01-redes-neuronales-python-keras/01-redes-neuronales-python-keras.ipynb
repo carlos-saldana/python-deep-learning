{
 "cells": [
  {
   "cell_type": "markdown",
   "id": "124d1d75-4777-4918-af31-1ee1b3f3faf4",
   "metadata": {},
   "source": [
    "### REDES NEURONALES CON PYTHON Y KERAS"
   ]
  },
  {
   "cell_type": "code",
   "execution_count": null,
   "id": "3fc483b6-a1f3-4a66-a4d5-156f56f148d6",
   "metadata": {},
   "outputs": [],
   "source": []
  }
 ],
 "metadata": {
  "kernelspec": {
   "display_name": "Python 3 (ipykernel)",
   "language": "python",
   "name": "python3"
  },
  "language_info": {
   "codemirror_mode": {
    "name": "ipython",
    "version": 3
   },
   "file_extension": ".py",
   "mimetype": "text/x-python",
   "name": "python",
   "nbconvert_exporter": "python",
   "pygments_lexer": "ipython3",
   "version": "3.9.17"
  }
 },
 "nbformat": 4,
 "nbformat_minor": 5
}
